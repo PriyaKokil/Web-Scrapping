{
 "cells": [
  {
   "cell_type": "code",
   "execution_count": 2,
   "id": "cbb478f3-40af-458d-b1f0-3e2491287334",
   "metadata": {},
   "outputs": [],
   "source": [
    "import requests\n",
    "from bs4 import BeautifulSoup as bs\n",
    "from urllib.request import urlopen\n",
    "import logging"
   ]
  },
  {
   "cell_type": "code",
   "execution_count": 3,
   "id": "aebf6cd9-c9e1-41e4-bb20-121279d4c4cc",
   "metadata": {},
   "outputs": [],
   "source": [
    "flipkart_url = \"https://www.flipkart.com/search?q=\" + \"iphone13\""
   ]
  },
  {
   "cell_type": "code",
   "execution_count": 4,
   "id": "de1e70cb-d968-43c7-9a20-1c2419567aaa",
   "metadata": {},
   "outputs": [
    {
     "data": {
      "text/plain": [
       "'https://www.flipkart.com/search?q=iphone13'"
      ]
     },
     "execution_count": 4,
     "metadata": {},
     "output_type": "execute_result"
    }
   ],
   "source": [
    "flipkart_url"
   ]
  },
  {
   "cell_type": "code",
   "execution_count": 5,
   "id": "232345ed-6af0-4af8-bf85-e2e53d3ce385",
   "metadata": {},
   "outputs": [],
   "source": [
    "urlclient = urlopen(flipkart_url)"
   ]
  },
  {
   "cell_type": "code",
   "execution_count": 6,
   "id": "a4dd3bfc-cbe9-413f-a5d2-70f409587514",
   "metadata": {},
   "outputs": [],
   "source": [
    "flipkart_page = urlclient.read()"
   ]
  },
  {
   "cell_type": "code",
   "execution_count": 7,
   "id": "bf8e8514-136a-41d3-90f4-2c6d9b85c773",
   "metadata": {},
   "outputs": [],
   "source": [
    "flipkart_html = bs(flipkart_page,'html.parser')"
   ]
  },
  {
   "cell_type": "code",
   "execution_count": 8,
   "id": "e6d1a489-3925-4cb5-9934-22023072ef57",
   "metadata": {},
   "outputs": [
    {
     "data": {
      "text/plain": [
       "'https://www.flipkart.com/apple-iphone-13-starlight-128-gb/p/itmc9604f122ae7f?pid=MOBG6VF5ADKHKXFX&amp;lid=LSTMOBG6VF5ADKHKXFXQGX7PK&amp;marketplace=FLIPKART&amp;q=iphone13&amp;store=tyy%2F4io&amp;spotlightTagId=FkPickId_tyy%2F4io&amp;srno=s_1_1&amp;otracker=search&amp;fm=organic&amp;iid=14941c86-d7cf-498a-a4fe-be28111ce20e.MOBG6VF5ADKHKXFX.SEARCH&amp;ppt=sp&amp;ppn=sp&amp;ssid=26mdqgzhcg0000001692001014218&amp;qH=7d4afaedfc628b80'"
      ]
     },
     "execution_count": 8,
     "metadata": {},
     "output_type": "execute_result"
    }
   ],
   "source": [
    "\"https://www.flipkart.com\"+\"/apple-iphone-13-starlight-128-gb/p/itmc9604f122ae7f?pid=MOBG6VF5ADKHKXFX&amp;lid=LSTMOBG6VF5ADKHKXFXQGX7PK&amp;marketplace=FLIPKART&amp;q=iphone13&amp;store=tyy%2F4io&amp;spotlightTagId=FkPickId_tyy%2F4io&amp;srno=s_1_1&amp;otracker=search&amp;fm=organic&amp;iid=14941c86-d7cf-498a-a4fe-be28111ce20e.MOBG6VF5ADKHKXFX.SEARCH&amp;ppt=sp&amp;ppn=sp&amp;ssid=26mdqgzhcg0000001692001014218&amp;qH=7d4afaedfc628b80\""
   ]
  },
  {
   "cell_type": "code",
   "execution_count": 10,
   "id": "8be106fb-8f71-4505-bce0-ecdc04897caa",
   "metadata": {},
   "outputs": [],
   "source": [
    "bigbox = flipkart_html.find_all(\"div\", {\"class\":\"_1AtVbE col-12-12\"})"
   ]
  },
  {
   "cell_type": "code",
   "execution_count": 11,
   "id": "fe714d0a-91be-440e-bfce-b237261f07ee",
   "metadata": {},
   "outputs": [
    {
     "data": {
      "text/plain": [
       "31"
      ]
     },
     "execution_count": 11,
     "metadata": {},
     "output_type": "execute_result"
    }
   ],
   "source": [
    "len(bigbox)"
   ]
  },
  {
   "cell_type": "code",
   "execution_count": 12,
   "id": "c8c86d34-b321-440e-905d-f37ed4a437ba",
   "metadata": {},
   "outputs": [],
   "source": [
    "del bigbox[0:3]"
   ]
  },
  {
   "cell_type": "code",
   "execution_count": 13,
   "id": "422ed2b4-7fe6-4e64-926e-c6035d712df6",
   "metadata": {
    "tags": []
   },
   "outputs": [],
   "source": [
    "product_link = \"https://www.flipkart.com\"+bigbox[0].div.div.div.a['href']"
   ]
  },
  {
   "cell_type": "code",
   "execution_count": 14,
   "id": "146c1f8a-7558-497b-9b74-d1585c742e38",
   "metadata": {},
   "outputs": [
    {
     "name": "stdout",
     "output_type": "stream",
     "text": [
      "https://www.flipkart.com/apple-iphone-13-midnight-128-gb/p/itmca361aab1c5b0?pid=MOBG6VF5Q82T3XRS&lid=LSTMOBG6VF5Q82T3XRSOXJLM9&marketplace=FLIPKART&q=iphone13&store=tyy%2F4io&spotlightTagId=BestsellerId_tyy%2F4io&srno=s_1_1&otracker=search&fm=organic&iid=6ab9f349-62fb-45de-9856-9d8c776a2cec.MOBG6VF5Q82T3XRS.SEARCH&ppt=None&ppn=None&ssid=ih183fgfk00000001692018140985&qH=7d4afaedfc628b80\n",
      "https://www.flipkart.com/apple-iphone-13-starlight-128-gb/p/itmc9604f122ae7f?pid=MOBG6VF5ADKHKXFX&lid=LSTMOBG6VF5ADKHKXFXQGX7PK&marketplace=FLIPKART&q=iphone13&store=tyy%2F4io&spotlightTagId=FkPickId_tyy%2F4io&srno=s_1_2&otracker=search&fm=organic&iid=6ab9f349-62fb-45de-9856-9d8c776a2cec.MOBG6VF5ADKHKXFX.SEARCH&ppt=None&ppn=None&ssid=ih183fgfk00000001692018140985&qH=7d4afaedfc628b80\n",
      "https://www.flipkart.com/apple-iphone-13-green-128-gb/p/itm18a55937b2607?pid=MOBGC9VGSU9DWGJZ&lid=LSTMOBGC9VGSU9DWGJZ0Q1T8E&marketplace=FLIPKART&q=iphone13&store=tyy%2F4io&srno=s_1_3&otracker=search&fm=organic&iid=6ab9f349-62fb-45de-9856-9d8c776a2cec.MOBGC9VGSU9DWGJZ.SEARCH&ppt=None&ppn=None&ssid=ih183fgfk00000001692018140985&qH=7d4afaedfc628b80\n",
      "https://www.flipkart.com/apple-iphone-13-pink-128-gb/p/itm6e30c6ee045d2?pid=MOBG6VF5GXVFTQ5Y&lid=LSTMOBG6VF5GXVFTQ5YSGQY4O&marketplace=FLIPKART&q=iphone13&store=tyy%2F4io&srno=s_1_4&otracker=search&fm=organic&iid=6ab9f349-62fb-45de-9856-9d8c776a2cec.MOBG6VF5GXVFTQ5Y.SEARCH&ppt=None&ppn=None&ssid=ih183fgfk00000001692018140985&qH=7d4afaedfc628b80\n",
      "https://www.flipkart.com/apple-iphone-13-blue-128-gb/p/itm6c601e0a58b3c?pid=MOBG6VF5SMXPNQHG&lid=LSTMOBG6VF5SMXPNQHGH3DY6Z&marketplace=FLIPKART&q=iphone13&store=tyy%2F4io&srno=s_1_5&otracker=search&fm=organic&iid=6ab9f349-62fb-45de-9856-9d8c776a2cec.MOBG6VF5SMXPNQHG.SEARCH&ppt=None&ppn=None&ssid=ih183fgfk00000001692018140985&qH=7d4afaedfc628b80\n",
      "https://www.flipkart.com/apple-iphone-13-product-red-128-gb/p/itm99b5658d148b0?pid=MOBG6VF59ZFEPEBX&lid=LSTMOBG6VF59ZFEPEBXH3IWCE&marketplace=FLIPKART&q=iphone13&store=tyy%2F4io&srno=s_1_6&otracker=search&fm=organic&iid=6ab9f349-62fb-45de-9856-9d8c776a2cec.MOBG6VF59ZFEPEBX.SEARCH&ppt=None&ppn=None&ssid=ih183fgfk00000001692018140985&qH=7d4afaedfc628b80\n",
      "https://www.flipkart.com/apple-iphone-13-blue-256-gb/p/itmd68a015aa1e39?pid=MOBG6VF566ZTUVFR&lid=LSTMOBG6VF566ZTUVFR00RD7Y&marketplace=FLIPKART&q=iphone13&store=tyy%2F4io&srno=s_1_7&otracker=search&fm=organic&iid=6ab9f349-62fb-45de-9856-9d8c776a2cec.MOBG6VF566ZTUVFR.SEARCH&ppt=None&ppn=None&ssid=ih183fgfk00000001692018140985&qH=7d4afaedfc628b80\n",
      "https://www.flipkart.com/apple-iphone-13-green-256-gb/p/itm14914e5e84473?pid=MOBGC9VGPXQNTXDW&lid=LSTMOBGC9VGPXQNTXDW2AHCZP&marketplace=FLIPKART&q=iphone13&store=tyy%2F4io&srno=s_1_8&otracker=search&fm=organic&iid=6ab9f349-62fb-45de-9856-9d8c776a2cec.MOBGC9VGPXQNTXDW.SEARCH&ppt=None&ppn=None&ssid=ih183fgfk00000001692018140985&qH=7d4afaedfc628b80\n",
      "https://www.flipkart.com/apple-iphone-13-starlight-256-gb/p/itm37b8de852304e?pid=MOBG6VF5NFYJ8KQX&lid=LSTMOBG6VF5NFYJ8KQX7FK2GA&marketplace=FLIPKART&q=iphone13&store=tyy%2F4io&srno=s_1_9&otracker=search&fm=organic&iid=6ab9f349-62fb-45de-9856-9d8c776a2cec.MOBG6VF5NFYJ8KQX.SEARCH&ppt=None&ppn=None&ssid=ih183fgfk00000001692018140985&qH=7d4afaedfc628b80\n",
      "https://www.flipkart.com/apple-iphone-13-pink-256-gb/p/itmc5ee8ec6cd737?pid=MOBG6VF5XAMZ2FKX&lid=LSTMOBG6VF5XAMZ2FKXWXB6MV&marketplace=FLIPKART&q=iphone13&store=tyy%2F4io&srno=s_1_10&otracker=search&fm=organic&iid=6ab9f349-62fb-45de-9856-9d8c776a2cec.MOBG6VF5XAMZ2FKX.SEARCH&ppt=None&ppn=None&ssid=ih183fgfk00000001692018140985&qH=7d4afaedfc628b80\n",
      "https://www.flipkart.com/apple-iphone-13-midnight-256-gb/p/itmfa27e6497b641?pid=MOBG6VF5AJGQ6HHE&lid=LSTMOBG6VF5AJGQ6HHEIDDQMK&marketplace=FLIPKART&q=iphone13&store=tyy%2F4io&srno=s_1_11&otracker=search&fm=organic&iid=6ab9f349-62fb-45de-9856-9d8c776a2cec.MOBG6VF5AJGQ6HHE.SEARCH&ppt=None&ppn=None&ssid=ih183fgfk00000001692018140985&qH=7d4afaedfc628b80\n",
      "https://www.flipkart.com/apple-iphone-13-product-red-512-gb/p/itmf3f96f20817ae?pid=MOBG6VF56S584SAP&lid=LSTMOBG6VF56S584SAPGZ8HCU&marketplace=FLIPKART&q=iphone13&store=tyy%2F4io&srno=s_1_12&otracker=search&fm=organic&iid=6ab9f349-62fb-45de-9856-9d8c776a2cec.MOBG6VF56S584SAP.SEARCH&ppt=None&ppn=None&ssid=ih183fgfk00000001692018140985&qH=7d4afaedfc628b80\n",
      "https://www.flipkart.com/apple-iphone-13-green-512-gb/p/itmdd397c451bdae?pid=MOBGC9VGEZQUXGW5&lid=LSTMOBGC9VGEZQUXGW5GINKRW&marketplace=FLIPKART&q=iphone13&store=tyy%2F4io&srno=s_1_13&otracker=search&fm=organic&iid=6ab9f349-62fb-45de-9856-9d8c776a2cec.MOBGC9VGEZQUXGW5.SEARCH&ppt=None&ppn=None&ssid=ih183fgfk00000001692018140985&qH=7d4afaedfc628b80\n",
      "https://www.flipkart.com/apple-iphone-13-blue-512-gb/p/itma26798ee418a6?pid=MOBG6VF5CBZ6EPF2&lid=LSTMOBG6VF5CBZ6EPF2I3GRC9&marketplace=FLIPKART&q=iphone13&store=tyy%2F4io&srno=s_1_14&otracker=search&fm=organic&iid=6ab9f349-62fb-45de-9856-9d8c776a2cec.MOBG6VF5CBZ6EPF2.SEARCH&ppt=None&ppn=None&ssid=ih183fgfk00000001692018140985&qH=7d4afaedfc628b80\n",
      "https://www.flipkart.com/apple-iphone-13-starlight-512-gb/p/itm1d663e7a79e95?pid=MOBG6VF5G3NJDHJ2&lid=LSTMOBG6VF5G3NJDHJ2CAM2ON&marketplace=FLIPKART&q=iphone13&store=tyy%2F4io&srno=s_1_15&otracker=search&fm=organic&iid=6ab9f349-62fb-45de-9856-9d8c776a2cec.MOBG6VF5G3NJDHJ2.SEARCH&ppt=None&ppn=None&ssid=ih183fgfk00000001692018140985&qH=7d4afaedfc628b80\n",
      "https://www.flipkart.com/apple-iphone-13-midnight-512-gb/p/itm7d60d2e9ffd7c?pid=MOBG6VF5GXHZMYMH&lid=LSTMOBG6VF5GXHZMYMHL6HIY4&marketplace=FLIPKART&q=iphone13&store=tyy%2F4io&srno=s_1_16&otracker=search&fm=organic&iid=6ab9f349-62fb-45de-9856-9d8c776a2cec.MOBG6VF5GXHZMYMH.SEARCH&ppt=None&ppn=None&ssid=ih183fgfk00000001692018140985&qH=7d4afaedfc628b80\n",
      "https://www.flipkart.com/apple-iphone-13-pink-512-gb/p/itm3762edcc79946?pid=MOBG6VF5AS6QUQWX&lid=LSTMOBG6VF5AS6QUQWXMKDSJL&marketplace=FLIPKART&q=iphone13&store=tyy%2F4io&srno=s_1_17&otracker=search&fm=organic&iid=6ab9f349-62fb-45de-9856-9d8c776a2cec.MOBG6VF5AS6QUQWX.SEARCH&ppt=None&ppn=None&ssid=ih183fgfk00000001692018140985&qH=7d4afaedfc628b80\n",
      "https://www.flipkart.com/apple-iphone-13-product-red-256-gb/p/itme239bd6bf6934?pid=MOBG6VF5DYJ3GBZH&lid=LSTMOBG6VF5DYJ3GBZHPVIDIF&marketplace=FLIPKART&q=iphone13&store=tyy%2F4io&srno=s_1_18&otracker=search&fm=organic&iid=6ab9f349-62fb-45de-9856-9d8c776a2cec.MOBG6VF5DYJ3GBZH.SEARCH&ppt=None&ppn=None&ssid=ih183fgfk00000001692018140985&qH=7d4afaedfc628b80\n",
      "https://www.flipkart.com/apple-iphone-13-pro-max-gold-512-gb/p/itmd6a2716ec3249?pid=MOBG6VF5DKQRJHJS&lid=LSTMOBG6VF5DKQRJHJSCPRIPU&marketplace=FLIPKART&q=iphone13&store=tyy%2F4io&srno=s_1_19&otracker=search&fm=organic&iid=6ab9f349-62fb-45de-9856-9d8c776a2cec.MOBG6VF5DKQRJHJS.SEARCH&ppt=None&ppn=None&ssid=ih183fgfk00000001692018140985&qH=7d4afaedfc628b80\n",
      "https://www.flipkart.com/apple-iphone-13-mini-product-red-512-gb/p/itm585815ebac94c?pid=MOBG6VF556QXTVKD&lid=LSTMOBG6VF556QXTVKDTZIF55&marketplace=FLIPKART&q=iphone13&store=tyy%2F4io&srno=s_1_20&otracker=search&fm=organic&iid=6ab9f349-62fb-45de-9856-9d8c776a2cec.MOBG6VF556QXTVKD.SEARCH&ppt=None&ppn=None&ssid=ih183fgfk00000001692018140985&qH=7d4afaedfc628b80\n",
      "https://www.flipkart.com/apple-iphone-13-pro-silver-512-gb/p/itme09b3387ed093?pid=MOBG6VF5GGMMBMG4&lid=LSTMOBG6VF5GGMMBMG46NCJDA&marketplace=FLIPKART&q=iphone13&store=tyy%2F4io&srno=s_1_21&otracker=search&fm=organic&iid=6ab9f349-62fb-45de-9856-9d8c776a2cec.MOBG6VF5GGMMBMG4.SEARCH&ppt=None&ppn=None&ssid=ih183fgfk00000001692018140985&qH=7d4afaedfc628b80\n",
      "https://www.flipkart.com/apple-iphone-13-pro-max-silver-512-gb/p/itm282cb973542f0?pid=MOBG6VF5FHNYCMTS&lid=LSTMOBG6VF5FHNYCMTSI00AMV&marketplace=FLIPKART&q=iphone13&store=tyy%2F4io&srno=s_1_22&otracker=search&fm=organic&iid=6ab9f349-62fb-45de-9856-9d8c776a2cec.MOBG6VF5FHNYCMTS.SEARCH&ppt=None&ppn=None&ssid=ih183fgfk00000001692018140985&qH=7d4afaedfc628b80\n",
      "https://www.flipkart.com/apple-iphone-13-pro-max-sierra-blue-512-gb/p/itm26f0b22cf2288?pid=MOBG6VF5ERKYQRP8&lid=LSTMOBG6VF5ERKYQRP8I9WIFA&marketplace=FLIPKART&q=iphone13&store=tyy%2F4io&srno=s_1_23&otracker=search&fm=organic&iid=6ab9f349-62fb-45de-9856-9d8c776a2cec.MOBG6VF5ERKYQRP8.SEARCH&ppt=None&ppn=None&ssid=ih183fgfk00000001692018140985&qH=7d4afaedfc628b80\n",
      "https://www.flipkart.com/apple-iphone-13-pro-sierra-blue-1-tb/p/itm777e2efa08500?pid=MOBG6VF5GNRGPUAU&lid=LSTMOBG6VF5GNRGPUAUY4FSU3&marketplace=FLIPKART&q=iphone13&store=tyy%2F4io&srno=s_1_24&otracker=search&fm=organic&iid=6ab9f349-62fb-45de-9856-9d8c776a2cec.MOBG6VF5GNRGPUAU.SEARCH&ppt=None&ppn=None&ssid=ih183fgfk00000001692018140985&qH=7d4afaedfc628b80\n"
     ]
    },
    {
     "ename": "AttributeError",
     "evalue": "'NoneType' object has no attribute 'a'",
     "output_type": "error",
     "traceback": [
      "\u001b[0;31m---------------------------------------------------------------------------\u001b[0m",
      "\u001b[0;31mAttributeError\u001b[0m                            Traceback (most recent call last)",
      "Cell \u001b[0;32mIn[14], line 2\u001b[0m\n\u001b[1;32m      1\u001b[0m \u001b[38;5;28;01mfor\u001b[39;00m i \u001b[38;5;129;01min\u001b[39;00m bigbox:\n\u001b[0;32m----> 2\u001b[0m     \u001b[38;5;28mprint\u001b[39m(\u001b[38;5;124m\"\u001b[39m\u001b[38;5;124mhttps://www.flipkart.com\u001b[39m\u001b[38;5;124m\"\u001b[39m\u001b[38;5;241m+\u001b[39m\u001b[43mi\u001b[49m\u001b[38;5;241;43m.\u001b[39;49m\u001b[43mdiv\u001b[49m\u001b[38;5;241;43m.\u001b[39;49m\u001b[43mdiv\u001b[49m\u001b[38;5;241;43m.\u001b[39;49m\u001b[43mdiv\u001b[49m\u001b[38;5;241;43m.\u001b[39;49m\u001b[43ma\u001b[49m[\u001b[38;5;124m'\u001b[39m\u001b[38;5;124mhref\u001b[39m\u001b[38;5;124m'\u001b[39m])\n",
      "\u001b[0;31mAttributeError\u001b[0m: 'NoneType' object has no attribute 'a'"
     ]
    }
   ],
   "source": [
    "for i in bigbox:\n",
    "    print(\"https://www.flipkart.com\"+i.div.div.div.a['href'])\n",
    "    "
   ]
  },
  {
   "cell_type": "code",
   "execution_count": 15,
   "id": "9421acc9-571f-49c4-b823-09393ed76ae9",
   "metadata": {},
   "outputs": [
    {
     "data": {
      "text/plain": [
       "'https://www.flipkart.com/apple-iphone-13-midnight-128-gb/p/itmca361aab1c5b0?pid=MOBG6VF5Q82T3XRS&lid=LSTMOBG6VF5Q82T3XRSOXJLM9&marketplace=FLIPKART&q=iphone13&store=tyy%2F4io&spotlightTagId=BestsellerId_tyy%2F4io&srno=s_1_1&otracker=search&fm=organic&iid=6ab9f349-62fb-45de-9856-9d8c776a2cec.MOBG6VF5Q82T3XRS.SEARCH&ppt=None&ppn=None&ssid=ih183fgfk00000001692018140985&qH=7d4afaedfc628b80'"
      ]
     },
     "execution_count": 15,
     "metadata": {},
     "output_type": "execute_result"
    }
   ],
   "source": [
    "product_link"
   ]
  },
  {
   "cell_type": "code",
   "execution_count": 18,
   "id": "a011a4df-c83d-46c1-b319-e661aab19bd8",
   "metadata": {},
   "outputs": [],
   "source": [
    "product_req = requests.get(product_link)"
   ]
  },
  {
   "cell_type": "code",
   "execution_count": 20,
   "id": "a09448b4-4a0e-453a-ad8f-871f49ce32ee",
   "metadata": {},
   "outputs": [],
   "source": [
    "product_html = bs(product_req.text,\"html.parser\")"
   ]
  },
  {
   "cell_type": "code",
   "execution_count": 23,
   "id": "a73b61fa-370a-4e0a-bdac-16acba88e057",
   "metadata": {},
   "outputs": [],
   "source": [
    "comment_box = product_html.find_all(\"div\",{\"class\":\"_16PBlm\"})"
   ]
  },
  {
   "cell_type": "code",
   "execution_count": 24,
   "id": "664fa165-7b69-413e-b2f2-587314b9e49b",
   "metadata": {},
   "outputs": [
    {
     "data": {
      "text/plain": [
       "11"
      ]
     },
     "execution_count": 24,
     "metadata": {},
     "output_type": "execute_result"
    }
   ],
   "source": [
    "len(comment_box)"
   ]
  },
  {
   "cell_type": "code",
   "execution_count": 28,
   "id": "d6450600-18e5-4eb2-a5a4-4cd7c55ffcb6",
   "metadata": {},
   "outputs": [
    {
     "data": {
      "text/plain": [
       "'Srinivash Bhoi'"
      ]
     },
     "execution_count": 28,
     "metadata": {},
     "output_type": "execute_result"
    }
   ],
   "source": [
    "comment_box[0].div.div.find_all(\"p\",{\"class\":\"_2sc7ZR _2V5EHH\"})[0].text"
   ]
  },
  {
   "cell_type": "code",
   "execution_count": 29,
   "id": "8ec36202-1e52-4bdc-9d06-1428047285a1",
   "metadata": {},
   "outputs": [
    {
     "name": "stdout",
     "output_type": "stream",
     "text": [
      "Srinivash Bhoi\n",
      "Flipkart Customer\n",
      "Pushpita Mayra\n",
      "Badri Bishal  Pratihari \n",
      "Sivam Ray\n",
      "Peris Kumar Bhagat\n",
      "Prasenjit Bar\n",
      "Rishi Raj\n",
      "Sachin Saini\n",
      "Shivang Palyal\n"
     ]
    },
    {
     "ename": "AttributeError",
     "evalue": "'NoneType' object has no attribute 'div'",
     "output_type": "error",
     "traceback": [
      "\u001b[0;31m---------------------------------------------------------------------------\u001b[0m",
      "\u001b[0;31mAttributeError\u001b[0m                            Traceback (most recent call last)",
      "Cell \u001b[0;32mIn[29], line 2\u001b[0m\n\u001b[1;32m      1\u001b[0m \u001b[38;5;28;01mfor\u001b[39;00m i \u001b[38;5;129;01min\u001b[39;00m comment_box:\n\u001b[0;32m----> 2\u001b[0m     \u001b[38;5;28mprint\u001b[39m(\u001b[43mi\u001b[49m\u001b[38;5;241;43m.\u001b[39;49m\u001b[43mdiv\u001b[49m\u001b[38;5;241;43m.\u001b[39;49m\u001b[43mdiv\u001b[49m\u001b[38;5;241m.\u001b[39mfind_all(\u001b[38;5;124m\"\u001b[39m\u001b[38;5;124mp\u001b[39m\u001b[38;5;124m\"\u001b[39m,{\u001b[38;5;124m\"\u001b[39m\u001b[38;5;124mclass\u001b[39m\u001b[38;5;124m\"\u001b[39m:\u001b[38;5;124m\"\u001b[39m\u001b[38;5;124m_2sc7ZR _2V5EHH\u001b[39m\u001b[38;5;124m\"\u001b[39m})[\u001b[38;5;241m0\u001b[39m]\u001b[38;5;241m.\u001b[39mtext)\n",
      "\u001b[0;31mAttributeError\u001b[0m: 'NoneType' object has no attribute 'div'"
     ]
    }
   ],
   "source": [
    "for i in comment_box:\n",
    "    print(i.div.div.find_all(\"p\",{\"class\":\"_2sc7ZR _2V5EHH\"})[0].text)\n",
    "    "
   ]
  },
  {
   "cell_type": "code",
   "execution_count": 33,
   "id": "dd101549-2f0f-47d9-8908-733e097b1c04",
   "metadata": {},
   "outputs": [
    {
     "name": "stdout",
     "output_type": "stream",
     "text": [
      "5\n",
      "5\n",
      "5\n",
      "5\n",
      "5\n",
      "5\n",
      "4\n",
      "5\n",
      "4\n",
      "5\n"
     ]
    },
    {
     "ename": "AttributeError",
     "evalue": "'NoneType' object has no attribute 'div'",
     "output_type": "error",
     "traceback": [
      "\u001b[0;31m---------------------------------------------------------------------------\u001b[0m",
      "\u001b[0;31mAttributeError\u001b[0m                            Traceback (most recent call last)",
      "Cell \u001b[0;32mIn[33], line 2\u001b[0m\n\u001b[1;32m      1\u001b[0m \u001b[38;5;28;01mfor\u001b[39;00m i \u001b[38;5;129;01min\u001b[39;00m comment_box:\n\u001b[0;32m----> 2\u001b[0m     \u001b[38;5;28mprint\u001b[39m(\u001b[43mi\u001b[49m\u001b[38;5;241;43m.\u001b[39;49m\u001b[43mdiv\u001b[49m\u001b[38;5;241;43m.\u001b[39;49m\u001b[43mdiv\u001b[49m\u001b[38;5;241m.\u001b[39mdiv\u001b[38;5;241m.\u001b[39mdiv\u001b[38;5;241m.\u001b[39mtext)\n",
      "\u001b[0;31mAttributeError\u001b[0m: 'NoneType' object has no attribute 'div'"
     ]
    }
   ],
   "source": [
    "for i in comment_box:\n",
    "    print(i.div.div.div.div.text)"
   ]
  },
  {
   "cell_type": "code",
   "execution_count": 36,
   "id": "4d67fa00-1a26-4940-ac14-026859e79e2a",
   "metadata": {},
   "outputs": [
    {
     "data": {
      "text/plain": [
       "'Perfect product!'"
      ]
     },
     "execution_count": 36,
     "metadata": {},
     "output_type": "execute_result"
    }
   ],
   "source": [
    "comment_box[0].div.div.div.p.text"
   ]
  },
  {
   "cell_type": "code",
   "execution_count": 37,
   "id": "a4dfb35f-82a5-4482-bf19-8cb635539c86",
   "metadata": {},
   "outputs": [
    {
     "name": "stdout",
     "output_type": "stream",
     "text": [
      "Perfect product!\n",
      "Terrific\n",
      "Must buy!\n",
      "Perfect product!\n",
      "Mind-blowing purchase\n",
      "Mind-blowing purchase\n",
      "Nice product\n",
      "Great product\n",
      "Really Nice\n",
      "Classy product\n"
     ]
    },
    {
     "ename": "AttributeError",
     "evalue": "'NoneType' object has no attribute 'div'",
     "output_type": "error",
     "traceback": [
      "\u001b[0;31m---------------------------------------------------------------------------\u001b[0m",
      "\u001b[0;31mAttributeError\u001b[0m                            Traceback (most recent call last)",
      "Cell \u001b[0;32mIn[37], line 2\u001b[0m\n\u001b[1;32m      1\u001b[0m \u001b[38;5;28;01mfor\u001b[39;00m i \u001b[38;5;129;01min\u001b[39;00m comment_box:\n\u001b[0;32m----> 2\u001b[0m     \u001b[38;5;28mprint\u001b[39m(\u001b[43mi\u001b[49m\u001b[38;5;241;43m.\u001b[39;49m\u001b[43mdiv\u001b[49m\u001b[38;5;241;43m.\u001b[39;49m\u001b[43mdiv\u001b[49m\u001b[38;5;241m.\u001b[39mdiv\u001b[38;5;241m.\u001b[39mp\u001b[38;5;241m.\u001b[39mtext)\n",
      "\u001b[0;31mAttributeError\u001b[0m: 'NoneType' object has no attribute 'div'"
     ]
    }
   ],
   "source": [
    "for i in comment_box:\n",
    "    print(i.div.div.div.p.text)"
   ]
  },
  {
   "cell_type": "code",
   "execution_count": 42,
   "id": "70e3ec86-c098-4a22-94d6-93fc235a8a94",
   "metadata": {},
   "outputs": [
    {
     "data": {
      "text/plain": [
       "'Pros-rear Camera is awesome.double speaker sound equal loud and base is superb display superb. Design also good.Battery back up superb.Cons-front camera is good not awesomeAfter switching from android you feel one minus point is the display notch .READ MORE'"
      ]
     },
     "execution_count": 42,
     "metadata": {},
     "output_type": "execute_result"
    }
   ],
   "source": [
    "comment_box[0].div.div.find_all(\"div\",{\"class\":\"\"})[0].text"
   ]
  },
  {
   "cell_type": "code",
   "execution_count": 43,
   "id": "91d0e23d-9350-4c62-862f-f80291e4edf8",
   "metadata": {},
   "outputs": [
    {
     "name": "stdout",
     "output_type": "stream",
     "text": [
      "Pros-rear Camera is awesome.double speaker sound equal loud and base is superb display superb. Design also good.Battery back up superb.Cons-front camera is good not awesomeAfter switching from android you feel one minus point is the display notch .READ MORE\n",
      "Happy to have this phoneREAD MORE\n",
      "Awesome phone Excellent camera qualityREAD MORE\n",
      "Love this phone..... 😍READ MORE\n",
      "Camera  is superb 🫡❤️READ MORE\n",
      "Great performance 🥰READ MORE\n",
      "Best phone for day to day use and photography/videography.READ MORE\n",
      "Beast phone …. Camera is exceptionally bestREAD MORE\n",
      "My first I phone ..from a long time android user… apple camera is way ahead  ,.. interface is better than android….overall premium features and feeling. .;but prices way aboveboardREAD MORE\n",
      "This is awosome .. camera is best . Here some photos i m sharing with you guys ..READ MORE\n"
     ]
    },
    {
     "ename": "AttributeError",
     "evalue": "'NoneType' object has no attribute 'div'",
     "output_type": "error",
     "traceback": [
      "\u001b[0;31m---------------------------------------------------------------------------\u001b[0m",
      "\u001b[0;31mAttributeError\u001b[0m                            Traceback (most recent call last)",
      "Cell \u001b[0;32mIn[43], line 2\u001b[0m\n\u001b[1;32m      1\u001b[0m \u001b[38;5;28;01mfor\u001b[39;00m i \u001b[38;5;129;01min\u001b[39;00m comment_box:\n\u001b[0;32m----> 2\u001b[0m     \u001b[38;5;28mprint\u001b[39m(\u001b[43mi\u001b[49m\u001b[38;5;241;43m.\u001b[39;49m\u001b[43mdiv\u001b[49m\u001b[38;5;241;43m.\u001b[39;49m\u001b[43mdiv\u001b[49m\u001b[38;5;241m.\u001b[39mfind_all(\u001b[38;5;124m\"\u001b[39m\u001b[38;5;124mdiv\u001b[39m\u001b[38;5;124m\"\u001b[39m,{\u001b[38;5;124m\"\u001b[39m\u001b[38;5;124mclass\u001b[39m\u001b[38;5;124m\"\u001b[39m:\u001b[38;5;124m\"\u001b[39m\u001b[38;5;124m\"\u001b[39m})[\u001b[38;5;241m0\u001b[39m]\u001b[38;5;241m.\u001b[39mtext)\n",
      "\u001b[0;31mAttributeError\u001b[0m: 'NoneType' object has no attribute 'div'"
     ]
    }
   ],
   "source": [
    "for i in comment_box:\n",
    "    print(i.div.div.find_all(\"div\",{\"class\":\"\"})[0].text)"
   ]
  },
  {
   "cell_type": "code",
   "execution_count": null,
   "id": "59e1e746-ca44-4ece-9d41-4b080fb1e961",
   "metadata": {},
   "outputs": [],
   "source": []
  }
 ],
 "metadata": {
  "kernelspec": {
   "display_name": "Python 3 (ipykernel)",
   "language": "python",
   "name": "python3"
  },
  "language_info": {
   "codemirror_mode": {
    "name": "ipython",
    "version": 3
   },
   "file_extension": ".py",
   "mimetype": "text/x-python",
   "name": "python",
   "nbconvert_exporter": "python",
   "pygments_lexer": "ipython3",
   "version": "3.10.8"
  }
 },
 "nbformat": 4,
 "nbformat_minor": 5
}
